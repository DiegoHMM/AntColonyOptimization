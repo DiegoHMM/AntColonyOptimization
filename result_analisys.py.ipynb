{
 "cells": [
  {
   "cell_type": "code",
   "execution_count": 20,
   "metadata": {
    "ExecuteTime": {
     "end_time": "2023-07-05T11:27:17.898425900Z",
     "start_time": "2023-07-05T11:27:17.097494600Z"
    },
    "collapsed": true
   },
   "outputs": [],
   "source": [
    "import pandas as pd\n",
    "import seaborn as sns\n",
    "from matplotlib import pyplot as plt\n"
   ]
  },
  {
   "cell_type": "code",
   "execution_count": 39,
   "metadata": {
    "ExecuteTime": {
     "end_time": "2023-07-05T11:26:14.587206900Z",
     "start_time": "2023-07-05T11:26:14.568191Z"
    },
    "collapsed": false
   },
   "outputs": [],
   "source": [
    "#seeds = [57, 12, 89, 42, 76, 28, 63, 95, 51, 10]\n",
    "seeds = [12, 89, 42, 76, 28, 63, 95, 51, 10]"
   ]
  },
  {
   "attachments": {},
   "cell_type": "markdown",
   "metadata": {},
   "source": [
    "# Graph 125"
   ]
  },
  {
   "cell_type": "code",
   "execution_count": 42,
   "metadata": {},
   "outputs": [],
   "source": [
    "#Desirability\n",
    "desirability_125_50 = []\n",
    "desirability_125_100 = []\n",
    "for seed in seeds:\n",
    "    #Desirability\n",
    "    #50 ants\n",
    "    desirability_125_50.append(pd.read_csv(f'Stats/g_125/{seed}/stats50.csv'))\n",
    "    #100 ants\n",
    "    desirability_125_100.append(pd.read_csv(f'Stats/g_125/{seed}/stats100.csv'))\n",
    "\n"
   ]
  },
  {
   "cell_type": "code",
   "execution_count": 44,
   "metadata": {},
   "outputs": [
    {
     "name": "stderr",
     "output_type": "stream",
     "text": [
      "C:\\Users\\louza\\AppData\\Local\\Temp\\ipykernel_15460\\2441735812.py:4: FutureWarning: The default value of numeric_only in DataFrameGroupBy.mean is deprecated. In a future version, numeric_only will default to False. Either specify numeric_only or select only columns which should be valid for the function.\n",
      "  desirability_125_50_avg = df_concat_50.groupby(df_concat_50.index).mean()\n",
      "C:\\Users\\louza\\AppData\\Local\\Temp\\ipykernel_15460\\2441735812.py:7: FutureWarning: The default value of numeric_only in DataFrameGroupBy.mean is deprecated. In a future version, numeric_only will default to False. Either specify numeric_only or select only columns which should be valid for the function.\n",
      "  desirability_125_100_avg = df_concat_100.groupby(df_concat_100.index).mean()\n"
     ]
    }
   ],
   "source": [
    "# Agrupando por índice e calculando a média\n",
    "#Desirability\n",
    "df_concat_50 = pd.concat(desirability_125_50)\n",
    "desirability_125_50_avg = df_concat_50.groupby(df_concat_50.index).mean()\n",
    "\n",
    "df_concat_100 = pd.concat(desirability_125_100)\n",
    "desirability_125_100_avg = df_concat_100.groupby(df_concat_100.index).mean()"
   ]
  },
  {
   "cell_type": "code",
   "execution_count": 46,
   "metadata": {},
   "outputs": [
    {
     "data": {
      "text/html": [
       "<div>\n",
       "<style scoped>\n",
       "    .dataframe tbody tr th:only-of-type {\n",
       "        vertical-align: middle;\n",
       "    }\n",
       "\n",
       "    .dataframe tbody tr th {\n",
       "        vertical-align: top;\n",
       "    }\n",
       "\n",
       "    .dataframe thead th {\n",
       "        text-align: right;\n",
       "    }\n",
       "</style>\n",
       "<table border=\"1\" class=\"dataframe\">\n",
       "  <thead>\n",
       "    <tr style=\"text-align: right;\">\n",
       "      <th></th>\n",
       "      <th>Iteration</th>\n",
       "      <th>Best_Clique_Size</th>\n",
       "    </tr>\n",
       "  </thead>\n",
       "  <tbody>\n",
       "    <tr>\n",
       "      <th>0</th>\n",
       "      <td>0.0</td>\n",
       "      <td>4.0</td>\n",
       "    </tr>\n",
       "  </tbody>\n",
       "</table>\n",
       "</div>"
      ],
      "text/plain": [
       "   Iteration  Best_Clique_Size\n",
       "0        0.0               4.0"
      ]
     },
     "execution_count": 46,
     "metadata": {},
     "output_type": "execute_result"
    }
   ],
   "source": [
    "desirability_125_50_avg.head()"
   ]
  },
  {
   "cell_type": "code",
   "execution_count": 45,
   "metadata": {},
   "outputs": [
    {
     "data": {
      "image/png": "[encoded data removed]",
      "text/plain": [
       "<Figure size 600x300 with 1 Axes>"
      ]
     },
     "metadata": {},
     "output_type": "display_data"
    }
   ],
   "source": [
    "# Definindo um estilo para os gráficos\n",
    "sns.set(style='whitegrid')\n",
    "\n",
    "plt.figure(figsize=(6, 3))  # Define o tamanho do gráfico\n",
    "\n",
    "# Gera a linha para desirability_500_avg\n",
    "sns.lineplot(x=desirability_125_50_avg['Iteration'], y=desirability_125_50_avg['Best_Clique_Size'], color='yellow', label='125_avg_50_Ants')\n",
    "sns.lineplot(x=desirability_125_100_avg['Iteration'], y=desirability_125_100_avg['Best_Clique_Size'], color='orange', label='125_avg_100_Ants')\n",
    "\n",
    "# Gera a linha para out_desirability_500_avg\n",
    "#sns.lineplot(x=out_desirability_500_avg['Iteration'], y=out_desirability_500_avg['Best_Clique_Size'], color='blue', label='out_desirability_500_avg')\n",
    "\n",
    "plt.xlabel('Iteração')  # Define o rótulo do eixo x\n",
    "plt.ylabel('Clique maximo')  # Define o rótulo do eixo y\n",
    "plt.title(f'Iteração vs Clique maximo')  # Define o título do gráfico\n",
    "plt.legend()  # Mostra a legenda\n",
    "plt.show()  # Mostra o gráfico"
   ]
  },
  {
   "cell_type": "markdown",
   "metadata": {
    "collapsed": false
   },
   "source": [
    "# Graph 500"
   ]
  },
  {
   "cell_type": "code",
   "execution_count": 22,
   "metadata": {
    "ExecuteTime": {
     "end_time": "2023-07-05T11:26:14.886115400Z",
     "start_time": "2023-07-05T11:26:14.823352Z"
    },
    "collapsed": false
   },
   "outputs": [],
   "source": [
    "#Desirability\n",
    "desirability_500_50 = []\n",
    "desirability_500_100 = []\n",
    "desirability_500_250 = []\n",
    "out_desirability_500 = []\n",
    "for seed in seeds:\n",
    "    #Desirability\n",
    "    #50 ants\n",
    "    desirability_500_50.append(pd.read_csv(f'Stats/g_500/{seed}/stats50.csv'))\n",
    "    #100 ants\n",
    "    desirability_500_100.append(pd.read_csv(f'Stats/g_500/{seed}/stats100.csv'))\n",
    "    #250 ants\n",
    "    desirability_500_250.append(pd.read_csv(f'Stats/g_500/{seed}/stats250.csv'))\n",
    "\n",
    "    #without desirability\n",
    "    out_desirability_500.append(pd.read_csv('Stats/without_desirability/g_500/' + str(seed) + '/stats.csv'))\n",
    "\n"
   ]
  },
  {
   "cell_type": "code",
   "execution_count": 23,
   "metadata": {
    "ExecuteTime": {
     "end_time": "2023-07-05T11:45:18.400418200Z",
     "start_time": "2023-07-05T11:45:18.355856600Z"
    },
    "collapsed": false
   },
   "outputs": [
    {
     "name": "stderr",
     "output_type": "stream",
     "text": [
      "C:\\Users\\louza\\AppData\\Local\\Temp\\ipykernel_15460\\3282734996.py:4: FutureWarning: The default value of numeric_only in DataFrameGroupBy.mean is deprecated. In a future version, numeric_only will default to False. Either specify numeric_only or select only columns which should be valid for the function.\n",
      "  desirability_500_50_avg = df_concat_50.groupby(df_concat_50.index).mean()\n",
      "C:\\Users\\louza\\AppData\\Local\\Temp\\ipykernel_15460\\3282734996.py:7: FutureWarning: The default value of numeric_only in DataFrameGroupBy.mean is deprecated. In a future version, numeric_only will default to False. Either specify numeric_only or select only columns which should be valid for the function.\n",
      "  desirability_500_100_avg = df_concat_100.groupby(df_concat_100.index).mean()\n",
      "C:\\Users\\louza\\AppData\\Local\\Temp\\ipykernel_15460\\3282734996.py:10: FutureWarning: The default value of numeric_only in DataFrameGroupBy.mean is deprecated. In a future version, numeric_only will default to False. Either specify numeric_only or select only columns which should be valid for the function.\n",
      "  desirability_500_250_avg = df_concat_250.groupby(df_concat_250.index).mean()\n",
      "C:\\Users\\louza\\AppData\\Local\\Temp\\ipykernel_15460\\3282734996.py:13: FutureWarning: The default value of numeric_only in DataFrameGroupBy.mean is deprecated. In a future version, numeric_only will default to False. Either specify numeric_only or select only columns which should be valid for the function.\n",
      "  out_desirability_500_avg = df_concat.groupby(df_concat.index).mean()\n"
     ]
    }
   ],
   "source": [
    "# Agrupando por índice e calculando a média\n",
    "#Desirability\n",
    "df_concat_50 = pd.concat(desirability_500_50)\n",
    "desirability_500_50_avg = df_concat_50.groupby(df_concat_50.index).mean()\n",
    "\n",
    "df_concat_100 = pd.concat(desirability_500_100)\n",
    "desirability_500_100_avg = df_concat_100.groupby(df_concat_100.index).mean()\n",
    "\n",
    "df_concat_250 = pd.concat(desirability_500_250)\n",
    "desirability_500_250_avg = df_concat_250.groupby(df_concat_250.index).mean()\n",
    "#without desirability\n",
    "df_concat = pd.concat(out_desirability_500)\n",
    "out_desirability_500_avg = df_concat.groupby(df_concat.index).mean()"
   ]
  },
  {
   "cell_type": "code",
   "execution_count": 24,
   "metadata": {
    "ExecuteTime": {
     "end_time": "2023-07-05T11:45:18.498261900Z",
     "start_time": "2023-07-05T11:45:18.478597700Z"
    },
    "collapsed": false
   },
   "outputs": [
    {
     "data": {
      "text/html": [
       "<div>\n",
       "<style scoped>\n",
       "    .dataframe tbody tr th:only-of-type {\n",
       "        vertical-align: middle;\n",
       "    }\n",
       "\n",
       "    .dataframe tbody tr th {\n",
       "        vertical-align: top;\n",
       "    }\n",
       "\n",
       "    .dataframe thead th {\n",
       "        text-align: right;\n",
       "    }\n",
       "</style>\n",
       "<table border=\"1\" class=\"dataframe\">\n",
       "  <thead>\n",
       "    <tr style=\"text-align: right;\">\n",
       "      <th></th>\n",
       "      <th>Iteration</th>\n",
       "      <th>Best_Clique_Size</th>\n",
       "    </tr>\n",
       "  </thead>\n",
       "  <tbody>\n",
       "    <tr>\n",
       "      <th>0</th>\n",
       "      <td>0.0</td>\n",
       "      <td>10.6</td>\n",
       "    </tr>\n",
       "    <tr>\n",
       "      <th>1</th>\n",
       "      <td>1.0</td>\n",
       "      <td>11.0</td>\n",
       "    </tr>\n",
       "    <tr>\n",
       "      <th>2</th>\n",
       "      <td>2.0</td>\n",
       "      <td>11.0</td>\n",
       "    </tr>\n",
       "  </tbody>\n",
       "</table>\n",
       "</div>"
      ],
      "text/plain": [
       "   Iteration  Best_Clique_Size\n",
       "0        0.0              10.6\n",
       "1        1.0              11.0\n",
       "2        2.0              11.0"
      ]
     },
     "execution_count": 24,
     "metadata": {},
     "output_type": "execute_result"
    }
   ],
   "source": [
    "desirability_500_50_avg.head(3)"
   ]
  },
  {
   "cell_type": "code",
   "execution_count": 25,
   "metadata": {},
   "outputs": [
    {
     "data": {
      "text/html": [
       "<div>\n",
       "<style scoped>\n",
       "    .dataframe tbody tr th:only-of-type {\n",
       "        vertical-align: middle;\n",
       "    }\n",
       "\n",
       "    .dataframe tbody tr th {\n",
       "        vertical-align: top;\n",
       "    }\n",
       "\n",
       "    .dataframe thead th {\n",
       "        text-align: right;\n",
       "    }\n",
       "</style>\n",
       "<table border=\"1\" class=\"dataframe\">\n",
       "  <thead>\n",
       "    <tr style=\"text-align: right;\">\n",
       "      <th></th>\n",
       "      <th>Iteration</th>\n",
       "      <th>Best_Clique_Size</th>\n",
       "    </tr>\n",
       "  </thead>\n",
       "  <tbody>\n",
       "    <tr>\n",
       "      <th>0</th>\n",
       "      <td>0.0</td>\n",
       "      <td>11.0</td>\n",
       "    </tr>\n",
       "    <tr>\n",
       "      <th>1</th>\n",
       "      <td>1.0</td>\n",
       "      <td>11.2</td>\n",
       "    </tr>\n",
       "    <tr>\n",
       "      <th>2</th>\n",
       "      <td>2.0</td>\n",
       "      <td>11.3</td>\n",
       "    </tr>\n",
       "  </tbody>\n",
       "</table>\n",
       "</div>"
      ],
      "text/plain": [
       "   Iteration  Best_Clique_Size\n",
       "0        0.0              11.0\n",
       "1        1.0              11.2\n",
       "2        2.0              11.3"
      ]
     },
     "execution_count": 25,
     "metadata": {},
     "output_type": "execute_result"
    }
   ],
   "source": [
    "desirability_500_100_avg.head(3)"
   ]
  },
  {
   "cell_type": "code",
   "execution_count": 26,
   "metadata": {},
   "outputs": [
    {
     "data": {
      "text/html": [
       "<div>\n",
       "<style scoped>\n",
       "    .dataframe tbody tr th:only-of-type {\n",
       "        vertical-align: middle;\n",
       "    }\n",
       "\n",
       "    .dataframe tbody tr th {\n",
       "        vertical-align: top;\n",
       "    }\n",
       "\n",
       "    .dataframe thead th {\n",
       "        text-align: right;\n",
       "    }\n",
       "</style>\n",
       "<table border=\"1\" class=\"dataframe\">\n",
       "  <thead>\n",
       "    <tr style=\"text-align: right;\">\n",
       "      <th></th>\n",
       "      <th>Iteration</th>\n",
       "      <th>Best_Clique_Size</th>\n",
       "    </tr>\n",
       "  </thead>\n",
       "  <tbody>\n",
       "    <tr>\n",
       "      <th>0</th>\n",
       "      <td>0.0</td>\n",
       "      <td>11.3</td>\n",
       "    </tr>\n",
       "    <tr>\n",
       "      <th>1</th>\n",
       "      <td>1.0</td>\n",
       "      <td>11.6</td>\n",
       "    </tr>\n",
       "    <tr>\n",
       "      <th>2</th>\n",
       "      <td>2.0</td>\n",
       "      <td>11.8</td>\n",
       "    </tr>\n",
       "  </tbody>\n",
       "</table>\n",
       "</div>"
      ],
      "text/plain": [
       "   Iteration  Best_Clique_Size\n",
       "0        0.0              11.3\n",
       "1        1.0              11.6\n",
       "2        2.0              11.8"
      ]
     },
     "execution_count": 26,
     "metadata": {},
     "output_type": "execute_result"
    }
   ],
   "source": [
    "desirability_500_250_avg.head(3)"
   ]
  },
  {
   "cell_type": "code",
   "execution_count": 6,
   "metadata": {
    "ExecuteTime": {
     "end_time": "2023-07-05T11:45:18.666379900Z",
     "start_time": "2023-07-05T11:45:18.627800800Z"
    },
    "collapsed": false
   },
   "outputs": [
    {
     "data": {
      "text/html": [
       "<div>\n",
       "<style scoped>\n",
       "    .dataframe tbody tr th:only-of-type {\n",
       "        vertical-align: middle;\n",
       "    }\n",
       "\n",
       "    .dataframe tbody tr th {\n",
       "        vertical-align: top;\n",
       "    }\n",
       "\n",
       "    .dataframe thead th {\n",
       "        text-align: right;\n",
       "    }\n",
       "</style>\n",
       "<table border=\"1\" class=\"dataframe\">\n",
       "  <thead>\n",
       "    <tr style=\"text-align: right;\">\n",
       "      <th></th>\n",
       "      <th>Iteration</th>\n",
       "      <th>Best_Clique_Size</th>\n",
       "    </tr>\n",
       "  </thead>\n",
       "  <tbody>\n",
       "    <tr>\n",
       "      <th>0</th>\n",
       "      <td>0.0</td>\n",
       "      <td>10.8</td>\n",
       "    </tr>\n",
       "    <tr>\n",
       "      <th>1</th>\n",
       "      <td>1.0</td>\n",
       "      <td>10.9</td>\n",
       "    </tr>\n",
       "    <tr>\n",
       "      <th>2</th>\n",
       "      <td>2.0</td>\n",
       "      <td>11.2</td>\n",
       "    </tr>\n",
       "  </tbody>\n",
       "</table>\n",
       "</div>"
      ],
      "text/plain": [
       "   Iteration  Best_Clique_Size\n",
       "0        0.0              10.8\n",
       "1        1.0              10.9\n",
       "2        2.0              11.2"
      ]
     },
     "execution_count": 6,
     "metadata": {},
     "output_type": "execute_result"
    }
   ],
   "source": [
    "out_desirability_500_avg.head(3)"
   ]
  },
  {
   "cell_type": "code",
   "execution_count": 47,
   "metadata": {
    "ExecuteTime": {
     "end_time": "2023-07-05T11:45:20.631821500Z",
     "start_time": "2023-07-05T11:45:20.374487300Z"
    },
    "collapsed": false
   },
   "outputs": [
    {
     "data": {
      "image/png": "[encoded data removed]",
      "text/plain": [
       "<Figure size 800x500 with 1 Axes>"
      ]
     },
     "metadata": {},
     "output_type": "display_data"
    }
   ],
   "source": [
    "# Definindo um estilo para os gráficos\n",
    "sns.set(style='whitegrid')\n",
    "\n",
    "plt.figure(figsize=(6, 3))  # Define o tamanho do gráfico\n",
    "\n",
    "# Gera a linha para desirability_500_avg\n",
    "sns.lineplot(x=desirability_500_50_avg['Iteration'], y=desirability_500_50_avg['Best_Clique_Size'], color='yellow', label='500_avg_50_Ants')\n",
    "sns.lineplot(x=desirability_500_100_avg['Iteration'], y=desirability_500_100_avg['Best_Clique_Size'], color='orange', label='500_avg_100_Ants')\n",
    "sns.lineplot(x=desirability_500_250_avg['Iteration'], y=desirability_500_250_avg['Best_Clique_Size'], color='red', label='500_avg_250_Ants')\n",
    "\n",
    "# Gera a linha para out_desirability_500_avg\n",
    "#sns.lineplot(x=out_desirability_500_avg['Iteration'], y=out_desirability_500_avg['Best_Clique_Size'], color='blue', label='out_desirability_500_avg')\n",
    "\n",
    "plt.xlabel('Iteração')  # Define o rótulo do eixo x\n",
    "plt.ylabel('Clique maximo')  # Define o rótulo do eixo y\n",
    "plt.title(f'Iteração vs Clique maximo')  # Define o título do gráfico\n",
    "plt.legend()  # Mostra a legenda\n",
    "plt.show()  # Mostra o gráfico"
   ]
  },
  {
   "cell_type": "code",
   "execution_count": 48,
   "metadata": {
    "ExecuteTime": {
     "end_time": "2023-07-05T11:31:25.792140500Z",
     "start_time": "2023-07-05T11:31:25.726364900Z"
    },
    "collapsed": false
   },
   "outputs": [],
   "source": []
  },
  {
   "cell_type": "markdown",
   "metadata": {
    "collapsed": false
   },
   "source": [
    "# Graph 700"
   ]
  },
  {
   "cell_type": "code",
   "execution_count": 30,
   "metadata": {
    "ExecuteTime": {
     "end_time": "2023-07-05T11:46:05.530046200Z",
     "start_time": "2023-07-05T11:46:05.507426800Z"
    },
    "collapsed": false
   },
   "outputs": [],
   "source": [
    "#Desirability\n",
    "desirability_700_50 = []\n",
    "desirability_700_100 = []\n",
    "out_desirability_700 = []\n",
    "for seed in seeds:\n",
    "    #Desirability\n",
    "    #50 ants\n",
    "    desirability_700_50.append(pd.read_csv(f'Stats/g_700/{seed}/stats50.csv'))\n",
    "    #100 ants\n",
    "    desirability_700_100.append(pd.read_csv(f'Stats/g_700/{seed}/stats100.csv'))\n",
    "\n",
    "    #without desirability\n",
    "    out_desirability_700.append(pd.read_csv('Stats/without_desirability/g_700/' + str(seed) + '/stats.csv'))\n",
    "\n"
   ]
  },
  {
   "cell_type": "code",
   "execution_count": 31,
   "metadata": {
    "ExecuteTime": {
     "end_time": "2023-07-05T11:46:21.220585100Z",
     "start_time": "2023-07-05T11:46:21.172186100Z"
    },
    "collapsed": false
   },
   "outputs": [
    {
     "name": "stderr",
     "output_type": "stream",
     "text": [
      "C:\\Users\\louza\\AppData\\Local\\Temp\\ipykernel_15460\\3689517383.py:4: FutureWarning: The default value of numeric_only in DataFrameGroupBy.mean is deprecated. In a future version, numeric_only will default to False. Either specify numeric_only or select only columns which should be valid for the function.\n",
      "  desirability_700_50_avg = df_concat_50.groupby(df_concat_50.index).mean()\n",
      "C:\\Users\\louza\\AppData\\Local\\Temp\\ipykernel_15460\\3689517383.py:7: FutureWarning: The default value of numeric_only in DataFrameGroupBy.mean is deprecated. In a future version, numeric_only will default to False. Either specify numeric_only or select only columns which should be valid for the function.\n",
      "  desirability_700_100_avg = df_concat_100.groupby(df_concat_100.index).mean()\n",
      "C:\\Users\\louza\\AppData\\Local\\Temp\\ipykernel_15460\\3689517383.py:11: FutureWarning: The default value of numeric_only in DataFrameGroupBy.mean is deprecated. In a future version, numeric_only will default to False. Either specify numeric_only or select only columns which should be valid for the function.\n",
      "  out_desirability_700_avg = df_concat.groupby(df_concat.index).mean()\n"
     ]
    }
   ],
   "source": [
    "# Agrupando por índice e calculando a média\n",
    "#Desirability\n",
    "df_concat_50 = pd.concat(desirability_700_50)\n",
    "desirability_700_50_avg = df_concat_50.groupby(df_concat_50.index).mean()\n",
    "\n",
    "df_concat_100 = pd.concat(desirability_700_100)\n",
    "desirability_700_100_avg = df_concat_100.groupby(df_concat_100.index).mean()\n",
    "\n",
    "#without desirability\n",
    "df_concat = pd.concat(out_desirability_700)\n",
    "out_desirability_700_avg = df_concat.groupby(df_concat.index).mean()\n"
   ]
  },
  {
   "cell_type": "code",
   "execution_count": 49,
   "metadata": {
    "ExecuteTime": {
     "end_time": "2023-07-05T11:46:23.529221Z",
     "start_time": "2023-07-05T11:46:23.486165600Z"
    },
    "collapsed": false
   },
   "outputs": [
    {
     "data": {
      "text/html": [
       "<div>\n",
       "<style scoped>\n",
       "    .dataframe tbody tr th:only-of-type {\n",
       "        vertical-align: middle;\n",
       "    }\n",
       "\n",
       "    .dataframe tbody tr th {\n",
       "        vertical-align: top;\n",
       "    }\n",
       "\n",
       "    .dataframe thead th {\n",
       "        text-align: right;\n",
       "    }\n",
       "</style>\n",
       "<table border=\"1\" class=\"dataframe\">\n",
       "  <thead>\n",
       "    <tr style=\"text-align: right;\">\n",
       "      <th></th>\n",
       "      <th>Iteration</th>\n",
       "      <th>Best_Clique_Size</th>\n",
       "    </tr>\n",
       "  </thead>\n",
       "  <tbody>\n",
       "    <tr>\n",
       "      <th>97</th>\n",
       "      <td>97.0</td>\n",
       "      <td>36.6</td>\n",
       "    </tr>\n",
       "    <tr>\n",
       "      <th>98</th>\n",
       "      <td>98.0</td>\n",
       "      <td>36.7</td>\n",
       "    </tr>\n",
       "    <tr>\n",
       "      <th>99</th>\n",
       "      <td>99.0</td>\n",
       "      <td>36.7</td>\n",
       "    </tr>\n",
       "  </tbody>\n",
       "</table>\n",
       "</div>"
      ],
      "text/plain": [
       "    Iteration  Best_Clique_Size\n",
       "97       97.0              36.6\n",
       "98       98.0              36.7\n",
       "99       99.0              36.7"
      ]
     },
     "execution_count": 49,
     "metadata": {},
     "output_type": "execute_result"
    }
   ],
   "source": [
    "desirability_700_50_avg.tail(3)"
   ]
  },
  {
   "cell_type": "code",
   "execution_count": 50,
   "metadata": {
    "ExecuteTime": {
     "end_time": "2023-07-05T11:46:25.820596600Z",
     "start_time": "2023-07-05T11:46:25.784230400Z"
    },
    "collapsed": false
   },
   "outputs": [
    {
     "data": {
      "text/html": [
       "<div>\n",
       "<style scoped>\n",
       "    .dataframe tbody tr th:only-of-type {\n",
       "        vertical-align: middle;\n",
       "    }\n",
       "\n",
       "    .dataframe tbody tr th {\n",
       "        vertical-align: top;\n",
       "    }\n",
       "\n",
       "    .dataframe thead th {\n",
       "        text-align: right;\n",
       "    }\n",
       "</style>\n",
       "<table border=\"1\" class=\"dataframe\">\n",
       "  <thead>\n",
       "    <tr style=\"text-align: right;\">\n",
       "      <th></th>\n",
       "      <th>Iteration</th>\n",
       "      <th>Best_Clique_Size</th>\n",
       "    </tr>\n",
       "  </thead>\n",
       "  <tbody>\n",
       "    <tr>\n",
       "      <th>97</th>\n",
       "      <td>97.0</td>\n",
       "      <td>35.0</td>\n",
       "    </tr>\n",
       "    <tr>\n",
       "      <th>98</th>\n",
       "      <td>98.0</td>\n",
       "      <td>35.0</td>\n",
       "    </tr>\n",
       "    <tr>\n",
       "      <th>99</th>\n",
       "      <td>99.0</td>\n",
       "      <td>35.1</td>\n",
       "    </tr>\n",
       "  </tbody>\n",
       "</table>\n",
       "</div>"
      ],
      "text/plain": [
       "    Iteration  Best_Clique_Size\n",
       "97       97.0              35.0\n",
       "98       98.0              35.0\n",
       "99       99.0              35.1"
      ]
     },
     "execution_count": 50,
     "metadata": {},
     "output_type": "execute_result"
    }
   ],
   "source": [
    "out_desirability_700_avg.tail(3)"
   ]
  },
  {
   "cell_type": "code",
   "execution_count": 48,
   "metadata": {
    "ExecuteTime": {
     "end_time": "2023-07-05T11:46:57.582901700Z",
     "start_time": "2023-07-05T11:46:57.333045300Z"
    },
    "collapsed": false
   },
   "outputs": [
    {
     "data": {
      "image/png": "[encoded data removed]",
      "text/plain": [
       "<Figure size 800x500 with 1 Axes>"
      ]
     },
     "metadata": {},
     "output_type": "display_data"
    }
   ],
   "source": [
    "# Definindo um estilo para os gráficos\n",
    "sns.set(style='whitegrid')\n",
    "\n",
    "plt.figure(figsize=(6, 3))  # Define o tamanho do gráfico\n",
    "\n",
    "# Gera a linha para desirability_700_avg\n",
    "sns.lineplot(x=desirability_700_50_avg['Iteration'], y=desirability_700_50_avg['Best_Clique_Size'], color='orange', label='700_avg_50_Ants')\n",
    "sns.lineplot(x=desirability_700_100_avg['Iteration'], y=desirability_700_100_avg['Best_Clique_Size'], color='red', label='700_avg_100_Ants')\n",
    "# Gera a linha para out_desirability_700_avg\n",
    "#sns.lineplot(x=out_desirability_700_avg['Iteration'], y=out_desirability_700_avg['Best_Clique_Size'], color='blue', label='out_desirability_700_avg')\n",
    "\n",
    "plt.xlabel('Iteração')  # Define o rótulo do eixo x\n",
    "plt.ylabel('Clique maximo')  # Define o rótulo do eixo y\n",
    "plt.title(f'Iteração vs Clique maximo')  # Define o título do gráfico\n",
    "plt.legend()  # Mostra a legenda\n",
    "plt.show()  # Mostra o gráfico\n"
   ]
  },
  {
   "cell_type": "code",
   "execution_count": null,
   "metadata": {
    "collapsed": false
   },
   "outputs": [],
   "source": []
  }
 ],
 "metadata": {
  "kernelspec": {
   "display_name": "Python 3",
   "language": "python",
   "name": "python3"
  },
  "language_info": {
   "codemirror_mode": {
    "name": "ipython",
    "version": 3
   },
   "file_extension": ".py",
   "mimetype": "text/x-python",
   "name": "python",
   "nbconvert_exporter": "python",
   "pygments_lexer": "ipython3",
   "version": "3.10.9"
  }
 },
 "nbformat": 4,
 "nbformat_minor": 0
}
